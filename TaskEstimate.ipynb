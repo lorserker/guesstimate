{
 "cells": [
  {
   "cell_type": "code",
   "execution_count": 1,
   "id": "e5d48fac",
   "metadata": {},
   "outputs": [],
   "source": [
    "%matplotlib inline"
   ]
  },
  {
   "cell_type": "code",
   "execution_count": 2,
   "id": "3a732f38",
   "metadata": {},
   "outputs": [],
   "source": [
    "%load_ext autoreload\n",
    "%autoreload 2"
   ]
  },
  {
   "cell_type": "code",
   "execution_count": 18,
   "id": "bf219605",
   "metadata": {},
   "outputs": [],
   "source": [
    "import numpy as np\n",
    "import pandas as pd\n",
    "import matplotlib.pyplot as plt\n",
    "\n",
    "import xml.etree.ElementTree as ET\n",
    "\n",
    "import task"
   ]
  },
  {
   "cell_type": "code",
   "execution_count": 33,
   "id": "8062765d",
   "metadata": {},
   "outputs": [],
   "source": [
    "# r_task = task.SuperTask.from_xml(ET.fromstring(open('example.xml').read()))\n",
    "r_task = task.load(open('example.xml'))"
   ]
  },
  {
   "cell_type": "code",
   "execution_count": 34,
   "id": "8f603c8e",
   "metadata": {},
   "outputs": [
    {
     "data": {
      "text/plain": [
       "array([18.40545653, 18.44723703, 21.21521295, ..., 19.41348087,\n",
       "       27.44096955, 15.13405323])"
      ]
     },
     "execution_count": 34,
     "metadata": {},
     "output_type": "execute_result"
    }
   ],
   "source": [
    "r_task.sample(10000)"
   ]
  },
  {
   "cell_type": "code",
   "execution_count": 35,
   "id": "0fa7dfc0",
   "metadata": {},
   "outputs": [
    {
     "name": "stdout",
     "output_type": "stream",
     "text": [
      "<super days=\"7\" q25=\"16\" q50=\"19\" q75=\"22\" q90=\"24\">\n",
      "    <t1 days=\"5\" q25=\"4\" q50=\"5\" q75=\"7\" q90=\"9\" />\n",
      "    <t2 days=\"5\" q25=\"9\" q50=\"11\" q75=\"13\" q90=\"15\">\n",
      "        <ch-a days=\"2\" q25=\"2\" q50=\"2\" q75=\"4\" q90=\"5\" />\n",
      "        <ch-b days=\"3\" q25=\"2\" q50=\"3\" q75=\"5\" q90=\"6\" />\n",
      "        <ch-c days=\"4\" q25=\"3\" q50=\"4\" q75=\"6\" q90=\"8\" />\n",
      "    </t2>\n",
      "</super>\n"
     ]
    }
   ],
   "source": [
    "el_root = r_task.to_xml()\n",
    "ET.indent(el_root, space=' '*4)\n",
    "\n",
    "print(ET.tostring(el_root).decode())\n"
   ]
  },
  {
   "cell_type": "code",
   "execution_count": 25,
   "id": "9fc5ed99",
   "metadata": {},
   "outputs": [
    {
     "data": {
      "text/plain": [
       "4"
      ]
     },
     "execution_count": 25,
     "metadata": {},
     "output_type": "execute_result"
    }
   ],
   "source": [
    "round(4.4)"
   ]
  },
  {
   "cell_type": "code",
   "execution_count": 16,
   "id": "c1e8724f",
   "metadata": {},
   "outputs": [
    {
     "data": {
      "image/png": "[encoded data removed]",
      "text/plain": [
       "<Figure size 432x288 with 1 Axes>"
      ]
     },
     "metadata": {
      "needs_background": "light"
     },
     "output_type": "display_data"
    }
   ],
   "source": [
    "t0 = task.ElementaryTask(\"t0\", days=0)\n",
    "t1 = task.ElementaryTask(\"t1\", days=5)\n",
    "t2 = task.ElementaryTask(\"t2\", days=5)\n",
    "\n",
    "s_task = task.SuperTask(\"super\", days=7, prerequisites=[t1, t2])\n",
    "\n",
    "plt.hist(s_task.sample(10000), 40);"
   ]
  },
  {
   "cell_type": "code",
   "execution_count": 65,
   "id": "af5f087b",
   "metadata": {},
   "outputs": [
    {
     "data": {
      "image/png": "[encoded data removed]",
      "text/plain": [
       "<Figure size 432x288 with 1 Axes>"
      ]
     },
     "metadata": {
      "needs_background": "light"
     },
     "output_type": "display_data"
    }
   ],
   "source": [
    "plt.hist(t1.sample(10000), 40);"
   ]
  },
  {
   "cell_type": "code",
   "execution_count": 73,
   "id": "771a4774",
   "metadata": {},
   "outputs": [
    {
     "data": {
      "text/plain": [
       "(5.3890590401387914, 14.455237848703039)"
      ]
     },
     "execution_count": 73,
     "metadata": {},
     "output_type": "execute_result"
    }
   ],
   "source": [
    "np.median(t1.sample(10000)), np.median(s_task.sample(10000))"
   ]
  },
  {
   "cell_type": "code",
   "execution_count": 57,
   "id": "eb4cd605",
   "metadata": {},
   "outputs": [
    {
     "data": {
      "text/plain": [
       "array([[7.96634612, 5.13590105],\n",
       "       [4.75696092, 3.46815751],\n",
       "       [4.2189068 , 5.52012172],\n",
       "       [2.55908795, 6.9913816 ],\n",
       "       [8.99840468, 5.56850744],\n",
       "       [5.57958723, 6.6759718 ],\n",
       "       [6.0757122 , 6.890024  ],\n",
       "       [6.68786111, 3.35981708]])"
      ]
     },
     "execution_count": 57,
     "metadata": {},
     "output_type": "execute_result"
    }
   ],
   "source": [
    "s_task._prereq_sample(8)"
   ]
  },
  {
   "cell_type": "code",
   "execution_count": 114,
   "id": "4525126a",
   "metadata": {},
   "outputs": [],
   "source": [
    "el_root = ET.Element(s_task.name, days=str(s_task.days))\n",
    "el_t1 = ET.Element(t1.name, days=str(t1.days))\n",
    "el_t2 = ET.Element(t2.name, days=str(t2.days))"
   ]
  },
  {
   "cell_type": "code",
   "execution_count": 115,
   "id": "4587635b",
   "metadata": {},
   "outputs": [],
   "source": [
    "el_root.append(el_t1)\n",
    "el_root.append(el_t2)\n",
    "\n",
    "ET.indent(el_root, space='    ')"
   ]
  },
  {
   "cell_type": "code",
   "execution_count": 116,
   "id": "b27af1fc",
   "metadata": {},
   "outputs": [
    {
     "name": "stdout",
     "output_type": "stream",
     "text": [
      "<super days=\"7\">\n",
      "    <t1 days=\"5\" />\n",
      "    <t2 days=\"5\" />\n",
      "</super>\n"
     ]
    }
   ],
   "source": [
    "print(ET.tostring(el_root).decode())"
   ]
  },
  {
   "cell_type": "code",
   "execution_count": 102,
   "id": "cc54faec",
   "metadata": {},
   "outputs": [],
   "source": [
    "ET.tostring?"
   ]
  },
  {
   "cell_type": "code",
   "execution_count": 119,
   "id": "fb11f9bd",
   "metadata": {},
   "outputs": [
    {
     "data": {
      "text/plain": [
       "'super'"
      ]
     },
     "execution_count": 119,
     "metadata": {},
     "output_type": "execute_result"
    }
   ],
   "source": [
    "el_root.tag"
   ]
  },
  {
   "cell_type": "code",
   "execution_count": 124,
   "id": "27c439a0",
   "metadata": {},
   "outputs": [
    {
     "data": {
      "text/plain": [
       "[<Element 'super' at 0x7f091fc73360>,\n",
       " <Element 't1' at 0x7f091fc728b0>,\n",
       " <Element 't2' at 0x7f091fc72090>]"
      ]
     },
     "execution_count": 124,
     "metadata": {},
     "output_type": "execute_result"
    }
   ],
   "source": [
    "list(el_root.iter())"
   ]
  },
  {
   "cell_type": "code",
   "execution_count": 125,
   "id": "6117be5d",
   "metadata": {},
   "outputs": [
    {
     "ename": "AttributeError",
     "evalue": "'xml.etree.ElementTree.Element' object has no attribute 'getchildren'",
     "output_type": "error",
     "traceback": [
      "\u001b[0;31m---------------------------------------------------------------------------\u001b[0m",
      "\u001b[0;31mAttributeError\u001b[0m                            Traceback (most recent call last)",
      "Input \u001b[0;32mIn [125]\u001b[0m, in \u001b[0;36m<cell line: 1>\u001b[0;34m()\u001b[0m\n\u001b[0;32m----> 1\u001b[0m \u001b[43mel_root\u001b[49m\u001b[38;5;241;43m.\u001b[39;49m\u001b[43mgetchildren\u001b[49m()\n",
      "\u001b[0;31mAttributeError\u001b[0m: 'xml.etree.ElementTree.Element' object has no attribute 'getchildren'"
     ]
    }
   ],
   "source": [
    "el_root.getchildren()"
   ]
  },
  {
   "cell_type": "code",
   "execution_count": 129,
   "id": "3179d639",
   "metadata": {},
   "outputs": [
    {
     "data": {
      "text/plain": [
       "[<Element 't1' at 0x7f091fc728b0>, <Element 't2' at 0x7f091fc72090>]"
      ]
     },
     "execution_count": 129,
     "metadata": {},
     "output_type": "execute_result"
    }
   ],
   "source": [
    "list(el_root)"
   ]
  },
  {
   "cell_type": "code",
   "execution_count": 131,
   "id": "799756ee",
   "metadata": {},
   "outputs": [],
   "source": [
    "parsed = ET.fromstring(open('example.xml').read())"
   ]
  },
  {
   "cell_type": "code",
   "execution_count": 132,
   "id": "476edcd3",
   "metadata": {},
   "outputs": [
    {
     "data": {
      "text/plain": [
       "[<Element 't1' at 0x7f091fabbb80>, <Element 't2' at 0x7f091fabbbd0>]"
      ]
     },
     "execution_count": 132,
     "metadata": {},
     "output_type": "execute_result"
    }
   ],
   "source": [
    "list(parsed)"
   ]
  },
  {
   "cell_type": "code",
   "execution_count": 17,
   "id": "e441f869",
   "metadata": {},
   "outputs": [],
   "source": [
    "np.percentile?"
   ]
  },
  {
   "cell_type": "code",
   "execution_count": null,
   "id": "a326b913",
   "metadata": {},
   "outputs": [],
   "source": []
  }
 ],
 "metadata": {
  "kernelspec": {
   "display_name": "Python 3 (ipykernel)",
   "language": "python",
   "name": "python3"
  },
  "language_info": {
   "codemirror_mode": {
    "name": "ipython",
    "version": 3
   },
   "file_extension": ".py",
   "mimetype": "text/x-python",
   "name": "python",
   "nbconvert_exporter": "python",
   "pygments_lexer": "ipython3",
   "version": "3.9.7"
  }
 },
 "nbformat": 4,
 "nbformat_minor": 5
}
